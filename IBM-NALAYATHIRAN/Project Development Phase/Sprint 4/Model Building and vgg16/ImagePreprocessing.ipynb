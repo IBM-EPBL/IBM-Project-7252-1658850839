{
  "cells": [
    {
      "cell_type": "markdown",
      "metadata": {
        "id": "Nzn-P-46buJi"
      },
      "source": [
        "#1. Import The ImageDataGenerator Library"
      ]
    },
    {
      "cell_type": "code",
      "execution_count": null,
      "metadata": {
        "id": "ov__omKn9NQy"
      },
      "outputs": [],
      "source": [
        "from tensorflow.keras.preprocessing.image import ImageDataGenerator "
      ]
    },
    {
      "cell_type": "markdown",
      "metadata": {
        "id": "bp0Lw1dZb8m-"
      },
      "source": [
        "#2. Configure ImageDataGenerator Class"
      ]
    },
    {
      "cell_type": "code",
      "execution_count": null,
      "metadata": {
        "id": "cVfTQXLUZuxz"
      },
      "outputs": [],
      "source": [
        "train_datagen = ImageDataGenerator(rescale = 1./255,\n",
        "                                   shear_range = 0.1,\n",
        "                                   zoom_range = 0.1,\n",
        "                                   horizontal_flip = True)\n",
        "test_datagen = ImageDataGenerator(rescale = 1./255)"
      ]
    },
    {
      "cell_type": "code",
      "execution_count": null,
      "metadata": {
        "colab": {
          "base_uri": "https://localhost:8080/"
        },
        "id": "X4WgatuabctM",
        "outputId": "a132cc21-eded-4894-ba0c-ab6e3a8a2834"
      },
      "outputs": [],
      "source": [
        "from google.colab import drive\n",
        "drive.mount('/content/drive')"
      ]
    },
    {
      "cell_type": "markdown",
      "metadata": {
        "id": "buMf9tpxcB1Y"
      },
      "source": [
        "#3. Apply ImageDataGenerator Functionality To Trainset And Testset"
      ]
    },
    {
      "cell_type": "code",
      "execution_count": null,
      "metadata": {
        "colab": {
          "base_uri": "https://localhost:8080/"
        },
        "id": "J80PNdbg9lku",
        "outputId": "1f5130ca-bfea-4e43-ce2b-567d36e986fe"
      },
      "outputs": [],
      "source": [
        "training_set = train_datagen.flow_from_directory('/content/drive/MyDrive/IBM/Car damage/body/training',\n",
        "                                                 target_size = (224, 224),\n",
        "                                                 batch_size = 10,\n",
        "                                                 class_mode = 'categorical')\n",
        "test_set = test_datagen.flow_from_directory('/content/drive/MyDrive/IBM/Car damage/body/validation',\n",
        "                                            target_size = (224, 224),\n",
        "                                            batch_size = 10,\n",
        "                                            class_mode = 'categorical')"
      ]
    }
  ],
  "metadata": {
    "colab": {
      "provenance": []
    },
    "kernelspec": {
      "display_name": "Python 3.8.0 32-bit",
      "language": "python",
      "name": "python3"
    },
    "language_info": {
      "name": "python",
      "version": "3.8.0"
    },
    "vscode": {
      "interpreter": {
        "hash": "b6fad3f268fe3ff1776d50154b5eecaf9038555f78389df413b9ff129d4b13b2"
      }
    }
  },
  "nbformat": 4,
  "nbformat_minor": 0
}
